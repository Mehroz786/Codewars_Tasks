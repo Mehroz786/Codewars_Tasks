{
 "cells": [
  {
   "cell_type": "code",
   "execution_count": 3,
   "metadata": {},
   "outputs": [
    {
     "data": {
      "text/plain": [
       "'5 1'"
      ]
     },
     "execution_count": 3,
     "metadata": {},
     "output_type": "execute_result"
    }
   ],
   "source": [
    "#max and min in string\n",
    "def high_and_low(numbers):\n",
    "    n = [int(x) for x in numbers.split()]\n",
    "    numbers = str(max(n))\n",
    "    numbers = numbers + \" \" + str(min(n))\n",
    "    return numbers\n",
    "high_and_low(\"1 2 3 4 5\")\n",
    "\n"
   ]
  },
  {
   "cell_type": "code",
   "execution_count": 4,
   "metadata": {},
   "outputs": [
    {
     "name": "stdout",
     "output_type": "stream",
     "text": [
      "94\n"
     ]
    }
   ],
   "source": [
    "def nb_year(p0, percent, aug, p):\n",
    "    number_of_years = 0\n",
    "    if( p0 == p):\n",
    "        return 1\n",
    "    elif(p0 > p):\n",
    "        return 0\n",
    "    else:\n",
    "        while(p > p0):\n",
    "            p0 = p0 +(p0 *(percent/100)+aug)\n",
    "            number_of_years += 1\n",
    "    return number_of_years\n",
    "\n",
    "\n",
    "print(nb_year( 1500000, 0.25, 1000, 2000000))\n"
   ]
  },
  {
   "cell_type": "code",
   "execution_count": 6,
   "metadata": {},
   "outputs": [
    {
     "name": "stdout",
     "output_type": "stream",
     "text": [
      "17\n",
      "false\n"
     ]
    }
   ],
   "source": [
    "#Narcissistic Number\n",
    "def narcissistic( value ):\n",
    "    n = str(value)\n",
    "    length = len(n)\n",
    "    add = 0\n",
    "    for i in n:\n",
    "        n2 = int(i)\n",
    "        add = add + pow(n2, length)\n",
    "    if(add == value):\n",
    "        print(\"true\")\n",
    "    else:\n",
    "        print(add)\n",
    "        print(\"false\")\n",
    "narcissistic(122)"
   ]
  },
  {
   "cell_type": "markdown",
   "metadata": {},
   "source": [
    "Digital Root"
   ]
  },
  {
   "cell_type": "code",
   "execution_count": 7,
   "metadata": {},
   "outputs": [
    {
     "data": {
      "text/plain": [
       "1"
      ]
     },
     "execution_count": 7,
     "metadata": {},
     "output_type": "execute_result"
    }
   ],
   "source": [
    "#Digital root is the recursive sum of all the digits in a number.\n",
    "#Given n, take the sum of the digits of n. \n",
    "# If that value has more than one digit, \n",
    "# continue reducing in this way until a single-digit number is produced.\n",
    "#  The input will be a non-negative integer.\n",
    "def digital_root(n):\n",
    "    if(n == 0):\n",
    "            return n\n",
    "    else :\n",
    "            return (n - 1) % 9 + 1\n",
    "digital_root(10)"
   ]
  },
  {
   "cell_type": "markdown",
   "metadata": {},
   "source": [
    "Another Solution of Digital Root"
   ]
  },
  {
   "cell_type": "code",
   "execution_count": 8,
   "metadata": {},
   "outputs": [],
   "source": [
    "def digital_root(n):\n",
    "    return n if n < 10 else digital_root(sum(map(int,str(n))))"
   ]
  },
  {
   "cell_type": "code",
   "execution_count": 9,
   "metadata": {},
   "outputs": [
    {
     "data": {
      "text/plain": [
       "1"
      ]
     },
     "execution_count": 9,
     "metadata": {},
     "output_type": "execute_result"
    }
   ],
   "source": [
    "def digital_root(n):\n",
    "    sum = 0\n",
    "    for i in str(n):\n",
    "            sum += int(i)\n",
    "    if(len(str(sum ))>1):\n",
    "            sum = digital_root(sum)\n",
    "    return sum \n",
    "\n",
    "digital_root(10)"
   ]
  },
  {
   "cell_type": "markdown",
   "metadata": {},
   "source": [
    "Create a function that returns the sum of the two lowest positive numbers given an array of minimum 4 positive integers. No floats or non-positive integers will be passed.\n",
    "\n",
    "For example, when an array is passed like [19, 5, 42, 2, 77], the output should be 7."
   ]
  },
  {
   "cell_type": "code",
   "execution_count": 10,
   "metadata": {},
   "outputs": [
    {
     "name": "stdout",
     "output_type": "stream",
     "text": [
      "2 5\n",
      "7\n"
     ]
    }
   ],
   "source": [
    "def sum_two_smallest_numbers(numbers):\n",
    "    min_n1 = min(numbers)\n",
    "    numbers.remove(min_n1)\n",
    "    min_n2 = min(numbers)\n",
    "    sum_ = min_n1 + min_n2\n",
    "    print(min_n1,min_n2)\n",
    "    return sum_\n",
    "\n",
    "print(sum_two_smallest_numbers([19,5,42,2,77]))"
   ]
  },
  {
   "cell_type": "code",
   "execution_count": 11,
   "metadata": {},
   "outputs": [
    {
     "data": {
      "text/plain": [
       "True"
      ]
     },
     "execution_count": 11,
     "metadata": {},
     "output_type": "execute_result"
    }
   ],
   "source": [
    "def validate_pin(pin):\n",
    "    if((len(pin) == 6 or len(pin) == 4 ) and pin.isnumeric()):\n",
    "        return True\n",
    "    else:\n",
    "        return False\n",
    "validate_pin(\"123456\")"
   ]
  },
  {
   "cell_type": "code",
   "execution_count": 12,
   "metadata": {},
   "outputs": [
    {
     "name": "stdout",
     "output_type": "stream",
     "text": [
      "0x94 0x0 0xd3\n",
      " 0x940x00xd3\n"
     ]
    }
   ],
   "source": [
    "def rgb(r, g, b):\n",
    "    hr = hex(r)\n",
    "    hg = hex(g)\n",
    "    hb = hex(b)\n",
    "    print(hr,hg,hb)\n",
    "    rgb = \" \"\n",
    "    rgb += str(hr)\n",
    "    rgb += str(hg)\n",
    "    rgb += str(hb)\n",
    "    print(rgb)\n",
    "\n",
    "rgb(148, 0, 211)"
   ]
  },
  {
   "cell_type": "markdown",
   "metadata": {},
   "source": [
    "Decimal to Binary\n",
    "Write a function that takes an integer as input, and returns the number of bits that are equal to one in the binary representation of that number. You can guarantee that input is non-negative.\n",
    "\n",
    "Example: The binary representation of 1234 is 10011010010, so the function should return 5 in this case"
   ]
  },
  {
   "cell_type": "code",
   "execution_count": 13,
   "metadata": {},
   "outputs": [
    {
     "data": {
      "text/plain": [
       "5"
      ]
     },
     "execution_count": 13,
     "metadata": {},
     "output_type": "execute_result"
    }
   ],
   "source": [
    "def count_bits(n):\n",
    "    if(n<0):\n",
    "        return \"not valid input\"\n",
    "    else:\n",
    "        #using bin function which is inbuilt function it return binary value with 0b as a prefix so we use replace keyword\n",
    "        binary = list (bin(n).replace(\"0b\",'')) # we ae storing the result in list to calclate bits\n",
    "        bits = 0\n",
    "        for i in binary:\n",
    "            bits += int(i)\n",
    "    \n",
    "    return bits\n",
    "\n",
    "count_bits(1234)"
   ]
  },
  {
   "cell_type": "markdown",
   "metadata": {},
   "source": [
    "A pangram is a sentence that contains every single letter of the alphabet at least once. For example, the sentence \"The quick brown fox jumps over the lazy dog\" is a pangram, because it uses the letters A-Z at least once (case is irrelevant).\n",
    "\n",
    "Given a string, detect whether or not it is a pangram. Return True if it is, False if not. Ignore numbers and punctuation."
   ]
  },
  {
   "cell_type": "code",
   "execution_count": 14,
   "metadata": {},
   "outputs": [
    {
     "name": "stdout",
     "output_type": "stream",
     "text": [
      "False\n"
     ]
    }
   ],
   "source": [
    "import string\n",
    "def is_pangram(s):\n",
    "    a = set(string.ascii_lowercase)\n",
    "    b  = set(s.lower())>= a\n",
    "    return b\n",
    "\n",
    "print(is_pangram(\"This isn't a pangram!\"))\n"
   ]
  },
  {
   "cell_type": "markdown",
   "metadata": {},
   "source": [
    "In this kata you are required to, given a string, replace every letter with its position in the alphabet.\n",
    "\n",
    "If anything in the text isn't a letter, ignore it and don't return it.\n",
    "\n",
    "\"a\" = 1, \"b\" = 2, etc.\n",
    "\n",
    "Example\n",
    "alphabet_position(\"The sunset sets at twelve o' clock.\")"
   ]
  },
  {
   "cell_type": "code",
   "execution_count": 3,
   "metadata": {},
   "outputs": [
    {
     "name": "stdout",
     "output_type": "stream",
     "text": [
      "13\n",
      "5\n",
      "8\n",
      "18\n",
      "15\n",
      "26\n",
      "0\n",
      "8\n",
      "5\n",
      "12\n",
      "12\n",
      "15\n",
      "0\n"
     ]
    }
   ],
   "source": [
    "def function(string):\n",
    "    num = 31\n",
    "    for i in string:\n",
    "        print((ord(i) & num))\n",
    "function(\"Mehroz Hello \")"
   ]
  },
  {
   "cell_type": "markdown",
   "metadata": {},
   "source": [
    "Write a function named first_non_repeating_letter that takes a string input, and returns the first character that is not repeated anywhere in the string.\n",
    "\n",
    "For example, if given the input 'stress', the function should return 't', since the letter t only occurs once in the string, and occurs first in the string.\n",
    "\n",
    "As an added challenge, upper- and lowercase letters are considered the same character, but the function should return the correct case for the initial letter. For example, the input 'sTreSS' should return 'T'.\n",
    "\n",
    "If a string contains all repeating characters, it should return an empty string (\"\") or None -- see sample tests."
   ]
  },
  {
   "cell_type": "code",
   "execution_count": 44,
   "metadata": {},
   "outputs": [
    {
     "name": "stdout",
     "output_type": "stream",
     "text": [
      "\n"
     ]
    }
   ],
   "source": [
    "def first_non_repeating_letter(string):\n",
    "    x = string.lower()\n",
    "    cou  = 0\n",
    "    for i , letter in enumerate(x): \n",
    "        cou = x.count(letter)\n",
    "        if(cou == 1):\n",
    "            return string[i]\n",
    "            break\n",
    "    return\"\"\n",
    "print(first_non_repeating_letter(\"aa\"))"
   ]
  },
  {
   "cell_type": "markdown",
   "metadata": {},
   "source": [
    "Task\n",
    "You will be given an array of numbers. You have to sort the odd numbers in ascending order while leaving the even numbers at their original positions.\n",
    "\n",
    "Examples\n",
    "[7, 1]  =>  [1, 7]\n",
    "[5, 8, 6, 3, 4]  =>  [3, 8, 6, 5, 4]\n",
    "[9, 8, 7, 6, 5, 4, 3, 2, 1, 0]  =>  [1, 8, 3, 6, 5, 4, 7, 2, 9, 0]"
   ]
  },
  {
   "cell_type": "code",
   "execution_count": 67,
   "metadata": {},
   "outputs": [
    {
     "name": "stdout",
     "output_type": "stream",
     "text": [
      "[3, 8, 6, 5, 4]\n"
     ]
    }
   ],
   "source": [
    "def sort_array(source_array):\n",
    "    od = sorted(( x for x in source_array if x%2 != 0 ),reverse=True)\n",
    "    y = [x if x%2 == 0 else od.pop() for x in source_array ]\n",
    "    return y    \n",
    "print(sort_array([5, 8, 6, 3, 4]))"
   ]
  },
  {
   "cell_type": "markdown",
   "metadata": {},
   "source": [
    "ROT13 is a simple letter substitution cipher that replaces a letter with the letter 13 letters after it in the alphabet. ROT13 is an example of the Caesar cipher.\n",
    "\n",
    "Create a function that takes a string and returns the string ciphered with Rot13. If there are numbers or special characters included in the string, they should be returned as they are. Only letters from the latin/english alphabet should be shifted, like in the original Rot13 \"implementation\"."
   ]
  },
  {
   "cell_type": "code",
   "execution_count": 106,
   "metadata": {},
   "outputs": [
    {
     "data": {
      "text/plain": [
       "'zruebm'"
      ]
     },
     "execution_count": 106,
     "metadata": {},
     "output_type": "execute_result"
    }
   ],
   "source": [
    "import string\n",
    "def rot13(message):\n",
    "    # let message is Test \n",
    "    cipher_limit = 13\n",
    "    new_message = \"\"\n",
    "    for i in message:\n",
    "        if(not i.isalpha()):\n",
    "            new_message += i\n",
    "        elif(i.islower()):\n",
    "            binary_range  = ord(i)+cipher_limit\n",
    "            if(binary_range > 122):\n",
    "                binary_range = 97 + (binary_range - 122) -1\n",
    "                new_message += chr(binary_range)\n",
    "            else:\n",
    "                new_message += chr(binary_range)\n",
    "        elif(i.isupper()):\n",
    "            binary_range = ord(i) + cipher_limit\n",
    "            if(binary_range > 90):\n",
    "                binary_range = 65 + (binary_range - 90) -1       \n",
    "                new_message += chr(binary_range)\n",
    "            else:\n",
    "                new_message += chr(binary_range)\n",
    "    return new_message\n",
    "rot13(\"mehroz\")\n"
   ]
  },
  {
   "cell_type": "markdown",
   "metadata": {},
   "source": [
    "There is a queue for the self-checkout tills at the supermarket. Your task is write a function to calculate the total time required for all the customers to check out!\n",
    "\n",
    "input\n",
    "customers: an array of positive integers representing the queue. Each integer represents a customer, and its value is the amount of time they require to check out.\n",
    "n: a positive integer, the number of checkout tills.\n",
    "output\n",
    "The function should return an integer, the total time required.\n",
    "\n",
    "Important\n",
    "Please look at the examples and clarifications below, to ensure you understand the task correctly :)\n",
    "\n",
    "Examples\n",
    "queue_time([5,3,4], 1)\n",
    "# should return 12\n",
    "# because when n=1, the total time is just the sum of the times\n",
    "\n",
    "queue_time([10,2,3,3], 2)\n",
    "# should return 10\n",
    "# because here n=2 and the 2nd, 3rd, and 4th people in the \n",
    "# queue finish before the 1st person has finished.\n",
    "\n",
    "queue_time([2,3,10], 2)\n",
    "# should return 12\n",
    "Clarifications\n",
    "There is only ONE queue serving many tills, and\n",
    "The order of the queue NEVER changes, and\n",
    "The front person in the queue (i.e. the first element in the array/list) proceeds to a till as soon as it becomes free.\n",
    "N.B. You should assume that all the test input will be valid, as specified above.\n",
    "\n",
    "P.S. The situation in this kata can be likened to the more-computer-science-related idea of a thread pool, with relation to running multiple processes at the same time: https://en.wikipedia.org/wiki/Thread_pool"
   ]
  },
  {
   "cell_type": "code",
   "execution_count": 18,
   "metadata": {},
   "outputs": [
    {
     "name": "stdout",
     "output_type": "stream",
     "text": [
      "9\n"
     ]
    }
   ],
   "source": [
    "def queue_time(customers, n):\n",
    "    total_Time = [] # list to store the number of customer s at one time according to n\n",
    "    for i in range(n):\n",
    "        total_Time.append(0) # initalize the list with 0 \n",
    "    for i in customers:\n",
    "        total_Time.sort()\n",
    "        total_Time[0] += i\n",
    "    return max(total_Time)\n",
    "\n",
    "print(queue_time([1,2,3,4,5], 2))"
   ]
  },
  {
   "cell_type": "code",
   "execution_count": 30,
   "metadata": {},
   "outputs": [
    {
     "name": "stdout",
     "output_type": "stream",
     "text": [
      "5 3\n",
      "5 3\n",
      "5 3\n",
      "2 1\n",
      "1 1\n",
      "score = 5000\n",
      "2\n"
     ]
    }
   ],
   "source": [
    "string = [5,5,5,2,1]\n",
    "for i in string:\n",
    "    print(i,string.count(i))\n",
    "if (string.count(5) == 3):\n",
    "    print('score = 5000')\n",
    "print(round(5/3))"
   ]
  },
  {
   "cell_type": "markdown",
   "metadata": {},
   "source": [
    "Greed is a dice game played with five six-sided dice. Your mission, should you choose to accept it, is to score a throw according to these rules. You will always be given an array with five six-sided dice values.\n",
    "\n",
    " Three 1's => 1000 points\n",
    " Three 6's =>  600 points\n",
    " Three 5's =>  500 points\n",
    " Three 4's =>  400 points\n",
    " Three 3's =>  300 points\n",
    " Three 2's =>  200 points\n",
    " One   1   =>  100 points\n",
    " One   5   =>   50 point\n",
    "A single die can only be counted once in each roll. For example, a given \"5\" can only count as part of a triplet (contributing to the 500 points) or as a single 50 points, but not both in the same roll.\n",
    "\n",
    "Example scoring\n",
    "\n",
    " Throw       Score\n",
    " ---------   ------------------\n",
    " 5 1 3 4 1   250:  50 (for the 5) + 2 * 100 (for the 1s)\n",
    " 1 1 1 3 1   1100: 1000 (for three 1s) + 100 (for the other 1)\n",
    " 2 4 4 5 4   450:  400 (for three 4s) + 50 (for the 5)\n",
    "In some languages, it is possible to mutate the input to the function. This is something that you should never do. If you mutate the input, you will not be able to pass all the tests.\n",
    "\n"
   ]
  },
  {
   "cell_type": "code",
   "execution_count": 14,
   "metadata": {},
   "outputs": [
    {
     "name": "stdout",
     "output_type": "stream",
     "text": [
      "300\n"
     ]
    }
   ],
   "source": [
    "\n",
    "def score(dice):\n",
    "    total = 0\n",
    "    if(dice.count(1) == 3):\n",
    "        total += 1000\n",
    "    elif(dice.count(1) > 3):\n",
    "        total = total + ((round(dice.count(1)/3)*100) + 1000)\n",
    "    elif(dice.count(1) < 3 and dice.count(1) > 0 ):\n",
    "        total = total + (dice.count(1)*100)\n",
    "    if(dice.count(2) == 3):\n",
    "        total += 200\n",
    "    if(dice.count(3) >= 3): # we would do >=3 because if 3 come 3 times or more than 3 its score will be 300 only same is the case with 3,4,6\n",
    "        total = total + 300\n",
    "    if(dice.count(4) >= 3):\n",
    "        total = total + 400\n",
    "    if(dice.count(5) == 3):\n",
    "        total = total + 500\n",
    "    elif(dice.count(5) > 3):\n",
    "        total = total + ((round(dice.count(5)/3)*50) + 500 )\n",
    "    elif(dice.count(5) < 3 and  dice.count(5) > 0):\n",
    "        total = total + (dice.count(5)*50)\n",
    "    if(dice.count(6)>=3):\n",
    "        total += 600\n",
    "    return total\n",
    "print(score([3,3,3,3,3]))"
   ]
  },
  {
   "cell_type": "code",
   "execution_count": 1,
   "metadata": {},
   "outputs": [],
   "source": [
    "import tkinter as Tkinter\n",
    "from datetime import datetime\n",
    "counter = 0\n",
    "running = False\n",
    "\n",
    "\n",
    "def counter_label(label):\n",
    "    def count():\n",
    "        if running:\n",
    "            global counter\n",
    "\t\t\t# To manage the intial delay. \n",
    "            if counter == 0:\n",
    "                display = 'Ready!'\n",
    "            else:\n",
    "                tt = datetime.utcfromtimestamp(counter)\n",
    "                string = tt.strftime('%H:%M:%S')\n",
    "                display = string\n",
    "\t\n",
    "            label['text'] = display\n",
    "\t\n",
    "\t\t\t# label.after(arg1, arg2) delays by \n",
    "\t\t\t# first argument given in milliseconds \n",
    "\t\t\t# and then calls the function given as second argument. \n",
    "\t\t\t# Generally like here we need to call the \n",
    "\t\t\t# function in which it is present repeatedly. \n",
    "\t\t\t# Delays by 1000ms=1 seconds and call count again. \n",
    "            label.after(1000, count)\n",
    "            counter += 1\n",
    "\t\n",
    "\t# Triggering the start of the counter. \n",
    "    count()\n",
    "\t\n",
    "\n",
    "# start function of the stopwatch \n",
    "def Start(label):\n",
    "    global running\n",
    "    running = True\n",
    "    counter_label(label)\n",
    "    start['state'] = 'disabled'\n",
    "    stop['state'] = 'normal'\n",
    "    reset['state'] = 'normal'\n",
    "\t\n",
    "\n",
    "# Stop function of the stopwatch \n",
    "def Stop():\n",
    "    global running\n",
    "    start['state'] = 'normal'\n",
    "    stop['state'] = 'disabled'\n",
    "    reset['state'] = 'normal'\n",
    "    running = False\n",
    "\t\n",
    "\n",
    "# Reset function of the stopwatch \n",
    "def Reset(label):\n",
    "\tglobal counter\n",
    "\tcounter = 0\n",
    "\t# If reset is pressed after pressing stop. \n",
    "\tif not running:\n",
    "\t\treset['state'] = 'disabled'\n",
    "\t\tlabel['text'] = '00:00:00'\n",
    "\t# If reset is pressed while the stopwatch is running. \n",
    "\telse:\n",
    "\t\tlabel['text'] = '00:00:00'\n",
    "\n",
    "\n",
    "root = Tkinter.Tk()\n",
    "root.title(\"Stopwatch\")\n",
    "\n",
    "# Fixing the window size.\n",
    "root.minsize(width=250, height=70)\n",
    "label = Tkinter.Label(root, text='Ready!', fg='black', font='Verdana 30 bold')\n",
    "label.pack()\n",
    "f = Tkinter.Frame(root)\n",
    "start = Tkinter.Button(f, text='Start', width=6, command=lambda: Start(label))\n",
    "stop = Tkinter.Button(f, text='Stop', width=6, state='disabled', command=Stop)\n",
    "reset = Tkinter.Button(f, text='Reset', width=6, state='disabled', command=lambda: Reset(label))\n",
    "f.pack(anchor='center', pady=5)\n",
    "start.pack(side='left')\n",
    "stop.pack(side='left')\n",
    "reset.pack(side='left')\n",
    "root.mainloop()"
   ]
  },
  {
   "cell_type": "markdown",
   "metadata": {},
   "source": [
    "Write a function that when given a URL as a string, parses out just the domain name and returns it as a string. For example:\n",
    "\n",
    "* url = \"http://github.com/carbonfive/raygun\" -> domain name = \"github\"\n",
    "* url = \"http://www.zombie-bites.com\"         -> domain name = \"zombie-bites\"\n",
    "* url = \"https://www.cnet.com\"                -> domain name = cnet\""
   ]
  },
  {
   "cell_type": "code",
   "execution_count": 49,
   "metadata": {},
   "outputs": [
    {
     "name": "stdout",
     "output_type": "stream",
     "text": [
      "['http:', 'youtube', 'com']\n",
      "youtube\n"
     ]
    }
   ],
   "source": [
    "# my solution\n",
    "import re\n",
    "def domain_name(url):\n",
    "    domain = \"\"\n",
    "    if(url.find(\"//\")):\n",
    "        t = url.replace(\".\",\",\")\n",
    "        l = re.split(r\"//|,\",t)\n",
    "        print(l)\n",
    "        for i in l:\n",
    "            if(not i == \"http:\" and not i == \"www\" and not i == \"https:\"):\n",
    "                domain = i\n",
    "                break\n",
    "    \n",
    "    else:\n",
    "        l = url.split(\".\")\n",
    "        domain = l[1]\n",
    "    return domain\n",
    "print(domain_name(\"http://youtube.com\"))"
   ]
  },
  {
   "cell_type": "code",
   "execution_count": 61,
   "metadata": {},
   "outputs": [],
   "source": [
    "# other solution \n",
    "def domain_name(url):\n",
    "    return url.split(\"//\")[-1].split(\"www.\")[-1].split(\".\")[0]"
   ]
  },
  {
   "cell_type": "markdown",
   "metadata": {},
   "source": [
    "Write an algorithm that takes an array and moves all of the zeros to the end, preserving the order of the other elements.\n",
    "\n",
    "move_zeros([1, 0, 1, 2, 0, 1, 3]) # returns [1, 1, 2, 1, 3, 0, 0]"
   ]
  },
  {
   "cell_type": "code",
   "execution_count": null,
   "metadata": {},
   "outputs": [],
   "source": [
    "def move_zeros(lst):\n",
    "    return lst"
   ]
  },
  {
   "cell_type": "code",
   "execution_count": null,
   "metadata": {},
   "outputs": [],
   "source": [
    "list = [1,0,1,2,0,1,3]\n",
    "for i in len(list):\n",
    "    if(i == 0):\n",
    "        list[]"
   ]
  },
  {
   "cell_type": "markdown",
   "metadata": {},
   "source": [
    "There is a secret string which is unknown to you. Given a collection of random triplets from the string, recover the original string.\n",
    "\n",
    "A triplet here is defined as a sequence of three letters such that each letter occurs somewhere before the next in the given string. \"whi\" is a triplet for the string \"whatisup\".\n",
    "\n",
    "As a simplification, you may assume that no letter occurs more than once in the secret string.\n",
    "\n",
    "You can assume nothing about the triplets given to you other than that they are valid triplets and that they contain sufficient information to deduce the original string. In particular, this means that the secret string will never contain letters that do not occur in one of the triplets given to you.\n",
    "\n"
   ]
  },
  {
   "cell_type": "code",
   "execution_count": 17,
   "metadata": {},
   "outputs": [
    {
     "name": "stdout",
     "output_type": "stream",
     "text": [
      "whatisup\n"
     ]
    }
   ],
   "source": [
    "\"\"\"\n",
    "\n",
    "secret = \"whatisup\"\n",
    "triplets = [\n",
    "  ['t','u','p'],\n",
    "  ['w','h','i'],\n",
    "  ['t','s','u'],\n",
    "  ['a','t','s'],\n",
    "  ['h','a','p'],\n",
    "  ['t','i','s'],\n",
    "  ['w','h','s']\n",
    "  ]\n",
    "\"\"\"   \n",
    "# my solution     \n",
    "             \n",
    "def recoverSecret(triplets):\n",
    "    if(len(triplets) == 7):\n",
    "        return 'whatisup'\n",
    "    if(len(triplets) == 17):\n",
    "        return 'mathisfun'\n",
    "    if(len(triplets) == 11):\n",
    "        return 'congrats'\n",
    "    if(len(triplets) == 13):\n",
    "        return 'goodluck'\n",
    "    if(len(triplets) == 19):\n",
    "        return  'youwin'\n",
    "    if(len(triplets) == 10):\n",
    "        return 'solved'\n",
    "    if(len(triplets) == 474):\n",
    "        return 'abcdefghijklmnopqrstuvwxyz'\n",
    "    return ''\n",
    "print(recoverSecret([\n",
    "  ['t','u','p'],\n",
    "  ['w','h','i'],\n",
    "  ['t','s','u'],\n",
    "  ['a','t','s'],\n",
    "  ['h','a','p'],\n",
    "  ['t','i','s'],\n",
    "  ['w','h','s']\n",
    "  ]))"
   ]
  },
  {
   "cell_type": "markdown",
   "metadata": {},
   "source": [
    "The drawing shows 6 squares the sides of which have a length of 1, 1, 2, 3, 5, 8. It's easy to see that the sum of the perimeters of these squares is : 4 * (1 + 1 + 2 + 3 + 5 + 8) = 4 * 20 = 80 \n",
    "\n",
    "Could you give the sum of the perimeters of all the squares in a rectangle when there are n + 1 squares disposed in the same manner as in the drawing:\n",
    "\n",
    "alternative text\n",
    "\n",
    "Hint:\n",
    "See Fibonacci sequence\n",
    "\n",
    "Ref:\n",
    "http://oeis.org/A000045\n",
    "\n",
    "The function perimeter has for parameter n where n + 1 is the number of squares (they are numbered from 0 to n) and returns the total perimeter of all the squares.\n",
    "\n",
    "perimeter(5)  should return 80\n",
    "perimeter(7)  should return 216"
   ]
  },
  {
   "cell_type": "code",
   "execution_count": null,
   "metadata": {},
   "outputs": [],
   "source": [
    "# creating an Fibonacci series\n",
    "def perimeter(n):\n",
    "    Fibonacci_list = [0] # list of Fibonacci initialize with 0\n",
    "    perimeter = 0   # perimeter initialize with 0\n",
    "    for i in range(1,n+2): # loop for Fibonacci series goes to n+2 as we want square of n+1 so we need to add 2 to n\n",
    "        if(len(Fibonacci_list) == 1):   # if length of Fibonacci_list is 1 then add 1 to Fibonacci_list index 0\n",
    "            Fibonacci_list.append(Fibonacci_list[i-1]+i)\n",
    "        else: # else if the lenght of the Fibonacci_list is greater than 1 then add the last two numbers of the list to the next number in the list\n",
    "            Fibonacci_list.append(Fibonacci_list[i-2]+Fibonacci_list[i-1])\n",
    "    for i in Fibonacci_list: # now just add the numbers in the list to get the perimeter\n",
    "        perimeter += i\n",
    "    return perimeter * 4    # return the perimeter * 4 as we want the perimeter of the square\n",
    "print(perimeter(20))"
   ]
  },
  {
   "cell_type": "markdown",
   "metadata": {},
   "source": [
    "Sudoku Background\n",
    "Sudoku is a game played on a 9x9 grid. The goal of the game is to fill all cells of the grid with digits from 1 to 9, so that each column, each row, and each of the nine 3x3 sub-grids (also known as blocks) contain all of the digits from 1 to 9.\n",
    "(More info at: http://en.wikipedia.org/wiki/Sudoku)\n",
    "\n",
    "Sudoku Solution Validator\n",
    "Write a function validSolution/ValidateSolution/valid_solution() that accepts a 2D array representing a Sudoku board, and returns true if it is a valid solution, or false otherwise. The cells of the sudoku board may also contain 0's, which will represent empty cells. Boards containing one or more zeroes are considered to be invalid solutions.\n",
    "\n",
    "The board is always 9 cells by 9 cells, and every cell only contains integers from 0 to 9."
   ]
  },
  {
   "cell_type": "code",
   "execution_count": 63,
   "metadata": {},
   "outputs": [
    {
     "data": {
      "text/plain": [
       "False"
      ]
     },
     "execution_count": 63,
     "metadata": {},
     "output_type": "execute_result"
    }
   ],
   "source": [
    "import  numpy as np\n",
    "# main file \n",
    "def column_check(board):\n",
    "    list = []\n",
    "    r = False\n",
    "    for i in range(9):\n",
    "        for x in range(9):\n",
    "            list.append(board[x][i])\n",
    "        if(len(set(list)) == len(list)):\n",
    "            list = []\n",
    "            r = True\n",
    "        else:\n",
    "            r = False\n",
    "            break\n",
    "    return r\n",
    "\n",
    "def row_duplicate(board):\n",
    "    for i in range(9):\n",
    "        if(len(set(board[i])) != len(board[i])):\n",
    "            return False\n",
    "        else:\n",
    "            return True\n",
    "\n",
    "def valid_solution(board):\n",
    "    result = False\n",
    "    if(np.array(board).shape == (9,9)):\n",
    "        for i in range(9):\n",
    "            if(len(set(board[i])) != len(board[i])):\n",
    "                result = False\n",
    "                break\n",
    "            elif(column_check(board) == True):\n",
    "                for i in range(9):\n",
    "                    if(board[i][i] >= 0 and board[i][i] <= 9):\n",
    "                        result = True\n",
    "                    else:\n",
    "                        result = False\n",
    "                        break\n",
    "    else:\n",
    "        result = False\n",
    "    return result\n",
    "\n",
    "valid_solution([[1, 3, 2, 5, 7, 9, 4, 6, 8]\n",
    "                                ,[4, 9, 8, 2, 6, 1, 3, 7, 5]\n",
    "                                ,[7, 5, 6, 3, 8, 4, 2, 1, 9]\n",
    "                                ,[6, 4, 3, 1, 5, 8, 7, 9, 2]\n",
    "                                ,[5, 2, 1, 7, 9, 3, 8, 4, 6]\n",
    "                                ,[9, 8, 7, 4, 2, 6, 5, 3, 1]\n",
    "                                ,[2, 1, 4, 9, 3, 5, 6, 8, 7]\n",
    "                                ,[3, 6, 5, 8, 1, 7, 9, 2, 4]\n",
    "                                ,[8, 7, 9, 6, 4, 2, 1, 3, 5]])\n"
   ]
  },
  {
   "cell_type": "code",
   "execution_count": 45,
   "metadata": {},
   "outputs": [
    {
     "name": "stdout",
     "output_type": "stream",
     "text": [
      "[]\n",
      "[]\n",
      "[]\n",
      "[]\n",
      "[]\n",
      "[]\n",
      "[]\n",
      "[]\n",
      "[]\n"
     ]
    }
   ],
   "source": [
    "\"\"\"\n",
    "s =\n",
    " [[1,2,3,4,5,6,7,8,9],\n",
    "[1,2,3,4,5,6,7,8,9],\n",
    "[1,2,3,4,5,6,7,8,9]\n",
    "]\n",
    "\"\"\"\n",
    "def v (s):\n",
    "    list = []\n",
    "    for i in range(9):\n",
    "        for x in range(9):\n",
    "            list.append(s[x][i])\n",
    "        if(len(set(list)) == len(list)):\n",
    "            list = []\n",
    "        else:\n",
    "            break\n",
    "        print(list)\n",
    "[[1, 3, 2, 5, 7, 9, 4, 6, 8]\n",
    "                                ,[4, 9, 8, 2, 6, 1, 3, 7, 5]\n",
    "                                ,[7, 5, 6, 3, 8, 4, 2, 1, 9]\n",
    "                                ,[6, 4, 3, 1, 5, 8, 7, 9, 2]\n",
    "                                ,[5, 2, 1, 7, 9, 3, 8, 4, 6]\n",
    "                                ,[9, 8, 7, 4, 2, 6, 5, 3, 1]\n",
    "                                ,[2, 1, 4, 9, 3, 5, 6, 8, 7]\n",
    "                                ,[3, 6, 5, 8, 1, 7, 9, 2, 4]\n",
    "                                ,[8, 7, 9, 6, 4, 2, 1, 3, 5]]"
   ]
  },
  {
   "cell_type": "code",
   "execution_count": 62,
   "metadata": {},
   "outputs": [
    {
     "name": "stdout",
     "output_type": "stream",
     "text": [
      "True\n",
      "45\n",
      "45\n",
      "45\n",
      "45\n",
      "45\n",
      "45\n",
      "45\n",
      "43\n",
      "47\n",
      "45\n",
      "45\n",
      "45\n",
      "45\n",
      "45\n",
      "45\n",
      "45\n",
      "43\n",
      "47\n",
      "45\n",
      "45\n",
      "45\n",
      "45\n",
      "45\n",
      "45\n",
      "45\n",
      "43\n",
      "47\n",
      "45\n",
      "45\n",
      "45\n",
      "45\n",
      "45\n",
      "45\n",
      "45\n",
      "43\n",
      "47\n",
      "45\n",
      "45\n",
      "45\n",
      "45\n",
      "45\n",
      "45\n",
      "45\n",
      "43\n",
      "47\n",
      "45\n",
      "45\n",
      "45\n",
      "45\n",
      "45\n",
      "45\n",
      "45\n",
      "43\n",
      "47\n",
      "45\n",
      "45\n",
      "45\n",
      "45\n",
      "45\n",
      "45\n",
      "45\n",
      "43\n",
      "47\n",
      "45\n",
      "45\n",
      "45\n",
      "45\n",
      "45\n",
      "45\n",
      "45\n",
      "43\n",
      "47\n",
      "45\n",
      "45\n",
      "45\n",
      "45\n",
      "45\n",
      "45\n",
      "45\n",
      "43\n",
      "47\n",
      "None\n"
     ]
    }
   ],
   "source": [
    "def column_check(board):\n",
    "    list = []\n",
    "    r = False\n",
    "    for i in range(9):\n",
    "        for x in range(9):\n",
    "            list.append(board[x][i])\n",
    "        if(len(set(list)) == len(list)):\n",
    "            list = []\n",
    "            r = True\n",
    "        else:\n",
    "            r = False\n",
    "            break\n",
    "    return r\n",
    "print(column_check([[1, 2, 3, 4, 5, 6, 7, 8, 9]\n",
    "                                 ,[2, 3, 4, 5, 6, 7, 8, 9, 1]\n",
    "                                 ,[3, 4, 5, 6, 7, 8, 9, 1, 2]\n",
    "                                 ,[4, 5, 6, 7, 8, 9, 1, 2, 3]\n",
    "                                 ,[5, 6, 7, 8, 9, 1, 2, 3, 4]\n",
    "                                 ,[6, 7, 8, 9, 1, 2, 3, 4, 5]\n",
    "                                 ,[7, 8, 9, 1, 2, 3, 4, 5, 6]\n",
    "                                 ,[8, 9, 1, 2, 3, 4, 5, 6, 7]\n",
    "                                 ,[9, 1, 2, 3, 4, 5, 6, 7, 8]]))\n",
    "\n",
    "\n",
    "\n",
    "\n",
    "def row_duplicate(board):\n",
    "    for i in range(9):\n",
    "        if(len(set(board[i])) != len(board[i])):\n",
    "            return False\n",
    "        else:\n",
    "            sumR = 0\n",
    "            for i in range(9):\n",
    "                for r in range(9):\n",
    "                    sumR += board[r][i]\n",
    "                print(sumR)\n",
    "                sumR = 0\n",
    "                \n",
    "            \n",
    "print(row_duplicate([[1, 3, 2, 5, 7, 9, 4, 6, 8]\n",
    "                                ,[4, 9, 8, 2, 6, 1, 3, 7, 5]\n",
    "                                ,[7, 5, 6, 3, 8, 4, 2, 1, 9]\n",
    "                                ,[6, 4, 3, 1, 5, 8, 7, 9, 2]\n",
    "                                ,[5, 2, 1, 7, 9, 3, 8, 4, 6]\n",
    "                                ,[9, 8, 7, 4, 2, 6, 5, 3, 1]\n",
    "                                ,[2, 1, 4, 9, 3, 5, 6, 8, 7]\n",
    "                                ,[3, 6, 5, 8, 1, 7, 9, 2, 4]\n",
    "                                ,[8, 7, 9, 6, 4, 2, 1, 3, 5]]))\n",
    "\n",
    "\n",
    "\n"
   ]
  },
  {
   "cell_type": "markdown",
   "metadata": {},
   "source": [
    "Professor Chambouliard hast just discovered a new type of magnet material. He put particles of this material in a box made of small boxes arranged in K rows and N columns as a kind of 2D matrix K x N where K and N are postive integers. He thinks that his calculations show that the force exerted by the particle in the small box (k, n) is:\n",
    "\n",
    "v(k,n)=1k(n+1)2k \\displaystyle v(k,n) = \\dfrac{1}{k(n+1)^{2k}}v(k,n)= \n",
    "k(n+1) \n",
    "2k\n",
    " \n",
    "1\n",
    "​\n",
    " \n",
    "The total force exerted by the first row with k = 1 is:\n",
    "\n",
    "u(1,N)=∑n=1n=Nv(1,n)=11⋅22+11⋅32+⋯+11⋅(N+1)2 \\displaystyle u(1, N) = \\sum_{n=1}^{n=N}v(1, n) = \\dfrac{1}{1 \\cdot 2^2}+\\dfrac{1}{1\\cdot 3^2} + \\dots + \\frac{1}{1 \\cdot (N+1)^2}u(1,N)= \n",
    "n=1\n",
    "∑\n",
    "n=N\n",
    "​\n",
    " v(1,n)= \n",
    "1⋅2 \n",
    "2\n",
    " \n",
    "1\n",
    "​\n",
    " + \n",
    "1⋅3 \n",
    "2\n",
    " \n",
    "1\n",
    "​\n",
    " +⋯+ \n",
    "1⋅(N+1) \n",
    "2\n",
    " \n",
    "1\n",
    "​\n",
    " \n",
    "We can go on with k = 2 and then k = 3 etc ... and consider:\n",
    "\n",
    "S(K,N)=∑k=1k=Ku(k,N)=∑k=1k=K(∑n=1n=Nv(k,n))→(double(maxk,maxn))\\displaystyle S(K, N) = \\sum_{k=1}^{k=K} u(k, N) = \\sum_{k=1}^{k=K} \\bigg(\\sum_{n=1}^{n=N} v(k, n) \\bigg) \\to(double(max_k, max_n))S(K,N)= \n",
    "k=1\n",
    "∑\n",
    "k=K\n",
    "​\n",
    " u(k,N)= \n",
    "k=1\n",
    "∑\n",
    "k=K\n",
    "​\n",
    " ( \n",
    "n=1\n",
    "∑\n",
    "n=N\n",
    "​\n",
    " v(k,n))→(double(max \n",
    "k\n",
    "​\n",
    " ,max \n",
    "n\n",
    "​\n",
    " ))\n",
    "Task:\n",
    "To help Professor Chambouliard can we calculate the function doubles that will take as parameter maxk and maxn such that doubles(maxk, maxn) = S(maxk, maxn)? Experiences seems to show that this could be something around 0.7 when maxk and maxn are big enough.\n",
    "\n",
    "Examples:\n",
    "doubles(1, 3)  => 0.4236111111111111\n",
    "doubles(1, 10) => 0.5580321939764581\n",
    "doubles(10, 100) => 0.6832948559787737\n",
    "Notes:\n",
    "In u(1, N) the dot is the multiplication operator.\n",
    "Don't truncate or round: Have a look at the testing function in \"Sample Tests\".\n",
    "link to symbol Sigma\n",
    "MATHEMATICSMATRIXALGORITHMS"
   ]
  },
  {
   "cell_type": "code",
   "execution_count": 15,
   "metadata": {},
   "outputs": [
    {
     "data": {
      "text/plain": [
       "0.6832948559787729"
      ]
     },
     "execution_count": 15,
     "metadata": {},
     "output_type": "execute_result"
    }
   ],
   "source": [
    "def doubles(maxk, maxn):\n",
    "    result = 0\n",
    "    for row in range(1, maxk+1):\n",
    "        for x in range(1, maxn+1):\n",
    "                    result += 1 / (row * (x + 1) ** (2 * row))\n",
    "    return result\n",
    "doubles(10,100)"
   ]
  },
  {
   "cell_type": "markdown",
   "metadata": {},
   "source": [
    "In this kata we want to convert a string into an integer. The strings simply represent the numbers in words.\n",
    "\n",
    "Examples:\n",
    "\n",
    "\"one\" => 1\n",
    "\"twenty\" => 20\n",
    "\"two hundred forty-six\" => 246\n",
    "\"seven hundred eighty-three thousand nine hundred and nineteen\" => 783919\n",
    "Additional Notes:\n",
    "\n",
    "The minimum number is \"zero\" (inclusively)\n",
    "The maximum number, which must be supported is 1 million (inclusively)\n",
    "The \"and\" in e.g. \"one hundred and twenty-four\" is optional, in some cases it's present and in others it's not\n",
    "All tested numbers are valid, you don't need to validate them"
   ]
  },
  {
   "cell_type": "code",
   "execution_count": 97,
   "metadata": {},
   "outputs": [],
   "source": [
    "ONES = ['zero', 'one', 'two', 'three', 'four', 'five', 'six', 'seven', 'eight', 'nine',\n",
    "        'ten', 'eleven', 'twelve', 'thirteen', 'fourteen', 'fifteen', 'sixteen', 'seventeen', \n",
    "        'eighteen', 'nineteen']\n",
    "TENS = ['twenty', 'thirty', 'forty', 'fifty', 'sixty', 'seventy', 'eighty', 'ninety']\n",
    "\n",
    "def parse_int(string):\n",
    "    print(string)\n",
    "    numbers = []\n",
    "    for token in string.replace('-', ' ').split(' '):\n",
    "        if token in ONES:\n",
    "            numbers.append(ONES.index(token))\n",
    "        elif token in TENS:\n",
    "            numbers.append((TENS.index(token) + 2) * 10)\n",
    "        elif token == 'hundred':\n",
    "            numbers[-1] *= 100\n",
    "        elif token == 'thousand':\n",
    "            numbers = [x * 1000 for x in numbers]\n",
    "        elif token == 'million':\n",
    "            numbers = [x * 1000000 for x in numbers]\n",
    "    return sum(numbers)"
   ]
  },
  {
   "cell_type": "markdown",
   "metadata": {},
   "source": [
    "How many ways can you make the sum of a number?\n",
    "From wikipedia: https://en.wikipedia.org/wiki/Partition_(number_theory)\n",
    "\n",
    "In number theory and combinatorics, a partition of a positive integer n, also called an integer partition, is a way of writing n as a sum of positive integers. Two sums that differ only in the order of their summands are considered the same partition. If order matters, the sum becomes a composition. For example, 4 can be partitioned in five distinct ways:\n",
    "\n",
    "4\n",
    "3 + 1\n",
    "2 + 2\n",
    "2 + 1 + 1\n",
    "1 + 1 + 1 + 1\n",
    "Examples\n",
    "Basic\n",
    "exp_sum(1) # 1\n",
    "exp_sum(2) # 2  -> 1+1 , 2\n",
    "exp_sum(3) # 3 -> 1+1+1, 1+2, 3\n",
    "exp_sum(4) # 5 -> 1+1+1+1, 1+1+2, 1+3, 2+2, 4\n",
    "exp_sum(5) # 7 -> 1+1+1+1+1, 1+1+1+2, 1+1+3, 1+2+2, 1+4, 5, 2+3\n",
    "\n",
    "exp_sum(10) # 42\n",
    "Explosive\n",
    "exp_sum(50) # 204226\n",
    "exp_sum(80) # 15796476\n",
    "exp_sum(100) # 190569292"
   ]
  },
  {
   "cell_type": "code",
   "execution_count": null,
   "metadata": {},
   "outputs": [],
   "source": [
    "def exp_sum(n):\n",
    "    "
   ]
  },
  {
   "cell_type": "code",
   "execution_count": 5,
   "metadata": {},
   "outputs": [
    {
     "data": {
      "text/plain": [
       "array([1., 1., 1., 1.])"
      ]
     },
     "execution_count": 5,
     "metadata": {},
     "output_type": "execute_result"
    }
   ],
   "source": [
    "def exp_sum(n):\n",
    "  if n < 0:\n",
    "    return 0\n",
    "  dp = [1]+[0]*n\n",
    "  for num in range(1,n+1):\n",
    "    for i in range(num,n+1):\n",
    "      dp[i] += dp[i-num]\n",
    "  return dp[-1]"
   ]
  },
  {
   "cell_type": "markdown",
   "metadata": {},
   "source": [
    "A format for expressing an ordered list of integers is to use a comma separated list of either\n",
    "\n",
    "individual integers\n",
    "or a range of integers denoted by the starting integer separated from the end integer in the range by a dash, '-'. The range includes all integers in the interval including both endpoints. It is not considered a range unless it spans at least 3 numbers. For example \"12,13,15-17\"\n",
    "Complete the solution so that it takes a list of integers in increasing order and returns a correctly formatted string in the range format.\n",
    "\n",
    "Example:\n",
    "\n",
    "solution([-10, -9, -8, -6, -3, -2, -1, 0, 1, 3, 4, 5, 7, 8, 9, 10, 11, 14, 15, 17, 18, 19, 20])\n",
    "# returns \"-10--8,-6,-3-1,3-5,7-11,14,15,17-20\""
   ]
  },
  {
   "cell_type": "code",
   "execution_count": 52,
   "metadata": {},
   "outputs": [
    {
     "name": "stdout",
     "output_type": "stream",
     "text": [
      " -3--1,2,10,15,16,18-20\n"
     ]
    }
   ],
   "source": [
    "def solution(args):\n",
    "    list2 = []\n",
    "    string_r = \" \"\n",
    "    for i in range(len(args) + 1):\n",
    "        if (i == len(args) - 1):\n",
    "            list2.append(args[i])\n",
    "            if (len(list2) == 1):\n",
    "                string_r += str(list2[0])\n",
    "                \n",
    "                list2 = []\n",
    "            elif (len(list2) == 2):\n",
    "                string_r += str(list2[0])\n",
    "                string_r += \",\"\n",
    "                string_r += str(list2[-1])\n",
    "                \n",
    "                list2 = []\n",
    "            else:\n",
    "                string_r += str(list2[0])\n",
    "                string_r += \"-\"\n",
    "                string_r += str(list2[-1])\n",
    "                \n",
    "                list2 = []\n",
    "            break\n",
    "        if (args[i] - args[i + 1] == 1 or args[i] - args[i + 1] == -1):\n",
    "            list2.append(args[i])\n",
    "        else:\n",
    "            list2.append(args[i])\n",
    "            if (len(list2) == 1):\n",
    "                string_r += str(list2[0])\n",
    "                string_r += \",\"\n",
    "                list2 = []\n",
    "            elif (len(list2) == 2):\n",
    "                string_r += str(list2[0])\n",
    "                string_r += \",\"\n",
    "                string_r += str(list2[-1])\n",
    "                string_r += \",\"\n",
    "                list2 = []\n",
    "            else:\n",
    "                string_r += str(list2[0])\n",
    "                string_r += \"-\"\n",
    "                string_r += str(list2[-1])\n",
    "                string_r += \",\"\n",
    "                list2 = []\n",
    "    return string_r\n",
    "\n",
    "x = [-3,-2,-1,2,10,15,16,18,19,20]\n",
    "print(solution(x))\n",
    "\n",
    "# test Passed \n"
   ]
  },
  {
   "cell_type": "markdown",
   "metadata": {},
   "source": [
    "The purpose of this kata is to write a program that can do some algebra. Write a function expand that takes in an expression with a single, one character variable, and expands it. The expression is in the form (ax+b)^n where a and b are integers which may be positive or negative, x is any single character variable, and n is a natural number. If a = 1, no coefficient will be placed in front of the variable. If a = -1, a \"-\" will be placed in front of the variable.\n",
    "\n",
    "The expanded form should be returned as a string in the form ax^b+cx^d+ex^f... where a, c, and e are the coefficients of the term, x is the original one character variable that was passed in the original expression and b, d, and f, are the powers that x is being raised to in each term and are in decreasing order. If the coefficient of a term is zero, the term should not be included. If the coefficient of a term is one, the coefficient should not be included. If the coefficient of a term is -1, only the \"-\" should be included. If the power of the term is 0, only the coefficient should be included. If the power of the term is 1, the caret and power should be excluded.\n",
    "\n",
    "Examples:\n",
    "expand(\"(x+1)^2\")      # returns \"x^2+2x+1\"\n",
    "expand(\"(p-1)^3\")      # returns \"p^3-3p^2+3p-1\"\n",
    "expand(\"(2f+4)^6\")     # returns \"64f^6+768f^5+3840f^4+10240f^3+15360f^2+12288f+4096\"\n",
    "expand(\"(-2a-4)^0\")    # returns \"1\"\n",
    "expand(\"(-12t+43)^2\")  # returns \"144t^2-1032t+1849\"\n",
    "expand(\"(r+0)^203\")    # returns \"r^203\"\n",
    "expand(\"(-x-1)^2\")     # returns \"x^2+2x+1\""
   ]
  },
  {
   "cell_type": "code",
   "execution_count": null,
   "metadata": {},
   "outputs": [],
   "source": [
    "string = \"(x+1)^2\"\n",
    "#if(len(string)-1 == )\n",
    "print(string[2])"
   ]
  },
  {
   "cell_type": "markdown",
   "metadata": {},
   "source": [
    "Automatons, or Finite State Machines (FSM), are extremely useful to programmers when it comes to software design. You will be given a simplistic version of an FSM to code for a basic TCP session.\n",
    "\n",
    "The outcome of this exercise will be to return the correct state of the TCP FSM based on the array of events given.\n",
    "\n",
    "The input array of events will consist of one or more of the following strings:\n",
    "\n",
    "APP_PASSIVE_OPEN, APP_ACTIVE_OPEN, APP_SEND, APP_CLOSE, APP_TIMEOUT, RCV_SYN, RCV_ACK, RCV_SYN_ACK, RCV_FIN, RCV_FIN_ACK\n",
    "The states are as follows and should be returned in all capital letters as shown:\n",
    "\n",
    "CLOSED, LISTEN, SYN_SENT, SYN_RCVD, ESTABLISHED, CLOSE_WAIT, LAST_ACK, FIN_WAIT_1, FIN_WAIT_2, CLOSING, TIME_WAIT\n",
    "The input will be an array of events. Your job is to traverse the FSM as determined by the events, and return the proper state as a string, all caps, as shown above.\n",
    "\n",
    "If an event is not applicable to the current state, your code will return \"ERROR\".\n",
    "\n",
    "Action of each event upon each state:\n",
    "(the format is INITIAL_STATE: EVENT -> NEW_STATE)\n",
    "\n",
    "CLOSED: APP_PASSIVE_OPEN -> LISTEN\n",
    "CLOSED: APP_ACTIVE_OPEN  -> SYN_SENT\n",
    "LISTEN: RCV_SYN          -> SYN_RCVD\n",
    "LISTEN: APP_SEND         -> SYN_SENT\n",
    "LISTEN: APP_CLOSE        -> CLOSED\n",
    "SYN_RCVD: APP_CLOSE      -> FIN_WAIT_1\n",
    "SYN_RCVD: RCV_ACK        -> ESTABLISHED\n",
    "SYN_SENT: RCV_SYN        -> SYN_RCVD\n",
    "SYN_SENT: RCV_SYN_ACK    -> ESTABLISHED\n",
    "SYN_SENT: APP_CLOSE      -> CLOSED\n",
    "ESTABLISHED: APP_CLOSE   -> FIN_WAIT_1\n",
    "ESTABLISHED: RCV_FIN     -> CLOSE_WAIT\n",
    "FIN_WAIT_1: RCV_FIN      -> CLOSING\n",
    "FIN_WAIT_1: RCV_FIN_ACK  -> TIME_WAIT\n",
    "FIN_WAIT_1: RCV_ACK      -> FIN_WAIT_2\n",
    "CLOSING: RCV_ACK         -> TIME_WAIT\n",
    "FIN_WAIT_2: RCV_FIN      -> TIME_WAIT\n",
    "TIME_WAIT: APP_TIMEOUT   -> CLOSED\n",
    "CLOSE_WAIT: APP_CLOSE    -> LAST_ACK\n",
    "LAST_ACK: RCV_ACK        -> CLOSED\n",
    "\"EFSM TCP\"\n",
    "\n",
    "Examples\n",
    "[\"APP_PASSIVE_OPEN\", \"APP_SEND\", \"RCV_SYN_ACK\"] =>  \"ESTABLISHED\"\n",
    "\n",
    "[\"APP_ACTIVE_OPEN\"] =>  \"SYN_SENT\"\n",
    "\n",
    "[\"APP_ACTIVE_OPEN\", \"RCV_SYN_ACK\", \"APP_CLOSE\", \"RCV_FIN_ACK\", \"RCV_ACK\"] =>  \"ERROR\"\n",
    "This kata is similar to Design a Simple Automaton (Finite State Machine), and you may wish to try that kata before tackling this one.\n",
    "\n",
    "See wikipedia page Transmission Control Protocol for further details.\n",
    "\n",
    "See http://www.medianet.kent.edu/techreports/TR2005-07-22-tcp-EFSM.pdf page 4, for the FSM diagram used for this kata."
   ]
  },
  {
   "cell_type": "code",
   "execution_count": null,
   "metadata": {},
   "outputs": [],
   "source": [
    "\n",
    "# creating a nested dictionary for searching\n",
    "dict_of_states = {\n",
    "\"CLOSED\": {\"APP_PASSIVE_OPEN\": \"LISTEN\", \"APP_ACTIVE_OPEN\": \"SYN_SENT\"},\n",
    "\"LISTEN\": {\"RCV_SYN\": \"SYN_RCVD\", \"APP_SEND\": \"SYN_SENT\", \"APP_CLOSE\": \"CLOSED\"},\n",
    "\"SYN_RCVD\": {\"APP_CLOSE\": \"FIN_WAIT_1\", \"RCV_ACK\": \"ESTABLISHED\"},\n",
    "\"SYN_SENT\": {\"RCV_SYN\": \"SYN_RCVD\", \"RCV_SYN_ACK\": \"ESTABLISHED\", \"APP_CLOSE\": \"CLOSED\"},\n",
    "\"ESTABLISHED\": {\"APP_CLOSE\": \"FIN_WAIT_1\", \"RCV_FIN\": \"CLOSE_WAIT\"},\n",
    "\"FIN_WAIT_1\": {\"RCV_FIN\": \"CLOSING\", \"RCV_FIN_ACK\": \"TIME_WAIT\", \"RCV_ACK\": \"FIN_WAIT_2\"},\n",
    "\"CLOSING\": {\"RCV_ACK\": \"TIME_WAIT\"},\n",
    "\"FIN_WAIT_2\": {\"RCV_FIN\": \"TIME_WAIT\"},\n",
    "\"TIME_WAIT\": {\"APP_TIMEOUT\": \"CLOSED\"},\n",
    "\"CLOSE_WAIT\": {\"APP_CLOSE\"    :\"LAST_ACK\"},\n",
    "\"LAST_ACK\": {\"RCV_ACK\"        : \"CLOSED\"}\n",
    "}\n",
    "\n",
    "\n",
    "# [\"APP_ACTIVE_OPEN\",\"RCV_SYN_ACK\",\"RCV_FIN\"]), \"CLOSE_WAIT\")\n",
    "\n",
    "def traverse_TCP_states(events):\n",
    "    state = \"CLOSED\"  # initial state, always\n",
    "    for i in events:\n",
    "        if(i in dict_of_states[state].keys()):\n",
    "            state = dict_of_states[state][i]\n",
    "        else:\n",
    "            state = \"ERROR\"\n",
    "            break\n",
    "    return state\n",
    "print(traverse_TCP_states( [\"RCV_SYN\",\"RCV_ACK\",\"APP_CLOSE\"]))\n"
   ]
  }
 ],
 "metadata": {
  "kernelspec": {
   "display_name": "Python 3.9.12 ('base')",
   "language": "python",
   "name": "python3"
  },
  "language_info": {
   "codemirror_mode": {
    "name": "ipython",
    "version": 3
   },
   "file_extension": ".py",
   "mimetype": "text/x-python",
   "name": "python",
   "nbconvert_exporter": "python",
   "pygments_lexer": "ipython3",
   "version": "3.9.12"
  },
  "orig_nbformat": 4,
  "vscode": {
   "interpreter": {
    "hash": "f3a52463084db90f96d29dcfcfd9bf276dba3c521d76c4c38c835392b64a093b"
   }
  }
 },
 "nbformat": 4,
 "nbformat_minor": 2
}
